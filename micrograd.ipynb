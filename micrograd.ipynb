{
 "cells": [
  {
   "cell_type": "code",
   "execution_count": 1,
   "id": "33d57f9f-125d-4a46-b316-89fed9c643f1",
   "metadata": {},
   "outputs": [],
   "source": [
    "#print(\"Hello, World!\")\n",
    "import math\n",
    "import numpy as np\n",
    "import matplotlib.pyplot as plt\n",
    "%matplotlib inline"
   ]
  },
  {
   "cell_type": "code",
   "execution_count": 2,
   "id": "9e80bab7-0589-4fff-bcbb-4d90fb7e3447",
   "metadata": {},
   "outputs": [],
   "source": [
    "def f(x):\n",
    "    return 3*x**2 - 4*x + 5"
   ]
  },
  {
   "cell_type": "code",
   "execution_count": 3,
   "id": "60aa5011-3257-44d3-9c4f-8ce163bde0cc",
   "metadata": {},
   "outputs": [
    {
     "data": {
      "text/plain": [
       "20.0"
      ]
     },
     "execution_count": 3,
     "metadata": {},
     "output_type": "execute_result"
    }
   ],
   "source": [
    "f(3.0)"
   ]
  },
  {
   "cell_type": "code",
   "execution_count": 4,
   "id": "9090380b-eb14-498f-aeed-6017f34ee5b3",
   "metadata": {},
   "outputs": [
    {
     "data": {
      "text/plain": [
       "[<matplotlib.lines.Line2D at 0x105381dc0>]"
      ]
     },
     "execution_count": 4,
     "metadata": {},
     "output_type": "execute_result"
    },
    {
     "data": {
      "image/png": "[encoded data removed]",
      "text/plain": [
       "<Figure size 640x480 with 1 Axes>"
      ]
     },
     "metadata": {},
     "output_type": "display_data"
    }
   ],
   "source": [
    "xs = np.arange(-5, 5, 0.25)\n",
    "ys = f(xs)\n",
    "plt.plot(xs, ys)"
   ]
  },
  {
   "cell_type": "code",
   "execution_count": 5,
   "id": "d39083b8-f4b2-43d2-8e73-9d04755177c2",
   "metadata": {},
   "outputs": [
    {
     "data": {
      "text/plain": [
       "2.999378523327323e-06"
      ]
     },
     "execution_count": 5,
     "metadata": {},
     "output_type": "execute_result"
    }
   ],
   "source": [
    "h = 0.000001\n",
    "x = 2/3\n",
    "(f(x + h) - f(x))/h"
   ]
  },
  {
   "cell_type": "code",
   "execution_count": 6,
   "id": "19d77db0-b9f7-4a73-b0e1-8a553bd587a4",
   "metadata": {},
   "outputs": [
    {
     "name": "stdout",
     "output_type": "stream",
     "text": [
      "d1 4.0\n",
      "d2 3.999699999999999\n",
      "slope -3.000000000010772\n"
     ]
    }
   ],
   "source": [
    "h = 0.0001\n",
    "a = 2.0\n",
    "b = -3.0 \n",
    "c = 10.0\n",
    "d1 = a*b + c\n",
    "a += h\n",
    "d2 = a*b + c\n",
    "\n",
    "print('d1', d1)\n",
    "print('d2', d2)\n",
    "print('slope', (d2-d1)/h)"
   ]
  },
  {
   "cell_type": "code",
   "execution_count": 67,
   "id": "bb273195-297a-404f-8713-c5dc92a73049",
   "metadata": {},
   "outputs": [
    {
     "data": {
      "text/plain": [
       "Value(data=-8.0)"
      ]
     },
     "execution_count": 67,
     "metadata": {},
     "output_type": "execute_result"
    }
   ],
   "source": [
    "class Value:\n",
    "\n",
    "    def __init__(self, data, _children=(), _op='', label=''):\n",
    "        self.data = data\n",
    "        self.grad = 0.0\n",
    "        self._prev = set(_children)\n",
    "        self._op = _op\n",
    "        self.label = label\n",
    "\n",
    "    def __repr__(self):\n",
    "        return f\"Value(data={self.data})\"\n",
    "\n",
    "    def __add__(self, other):\n",
    "        out = Value(self.data + other.data, (self, other), '+')\n",
    "        return out\n",
    "\n",
    "    def __mul__(self, other):\n",
    "        out = Value(self.data * other.data, (self, other), '*')\n",
    "        return out\n",
    "\n",
    "    def tanh(self):\n",
    "        x = self.data\n",
    "        t = (math.exp(2*x) -1)/(math.exp(2*x)+1)\n",
    "        out = Value(t, (self, ), 'tanh')\n",
    "        return out\n",
    "\n",
    "a = Value(2.0, label = 'a')\n",
    "b = Value(-3.0, label = 'b')\n",
    "c = Value(10.0, label = 'c')\n",
    "e = a*b; e.label = 'e'\n",
    "d = e + c; d.label = 'd'\n",
    "f = Value(-2.0, label = 'f')\n",
    "L = d*f; L.label = 'L'\n",
    "L"
   ]
  },
  {
   "cell_type": "code",
   "execution_count": 37,
   "id": "0a7a3a09-d9b5-4369-a8d9-9d086a9de964",
   "metadata": {},
   "outputs": [
    {
     "data": {
      "text/plain": [
       "{Value(data=-6.0), Value(data=10.0)}"
      ]
     },
     "execution_count": 37,
     "metadata": {},
     "output_type": "execute_result"
    }
   ],
   "source": [
    "d._prev"
   ]
  },
  {
   "cell_type": "code",
   "execution_count": 38,
   "id": "d37986d8-46ef-4b22-ba65-d8e72c7ff2a8",
   "metadata": {},
   "outputs": [
    {
     "data": {
      "text/plain": [
       "'+'"
      ]
     },
     "execution_count": 38,
     "metadata": {},
     "output_type": "execute_result"
    }
   ],
   "source": [
    "d._op"
   ]
  },
  {
   "cell_type": "code",
   "execution_count": 39,
   "id": "2fbfbd4b-bcaa-4cc9-b206-90adff98e0b8",
   "metadata": {},
   "outputs": [],
   "source": [
    "from graphviz import Digraph\n",
    "\n",
    "def trace(root):\n",
    "    #builds a set of all nodes and edges in a graph\n",
    "    nodes, edges = set(), set()\n",
    "    def build(v):\n",
    "        if v not in nodes:\n",
    "            nodes.add(v)\n",
    "            for child in v._prev:\n",
    "                edges.add((child, v))\n",
    "                build(child)\n",
    "    build(root)\n",
    "    return nodes, edges\n",
    "\n",
    "def draw_dot(root):\n",
    "    dot = Digraph(format='svg', graph_attr={'rankdir': 'LR'}) #left to right\n",
    "\n",
    "    nodes, edges = trace(root)\n",
    "    for n in nodes:\n",
    "        uid = str(id(n))\n",
    "        #for any value in graph, create rectangular record node for it\n",
    "        dot.node(name = uid, label = \"{%s | data %.4f | grad %.4f}\" % (n.label, n.data, n.grad), shape = 'record')\n",
    "        #connect this node to it\n",
    "        dot.edge(uid + n._op, uid)\n",
    "\n",
    "\n",
    "    for n1, n2 in edges:\n",
    "        #connect n1 to the op node of n2\n",
    "        dot.edge(str(id(n1)), str(id(n2)) + n2._op)\n",
    "\n",
    "    return dot\n",
    "    "
   ]
  },
  {
   "cell_type": "code",
   "execution_count": 61,
   "id": "cae4219a-1481-4368-b176-497ca573625e",
   "metadata": {},
   "outputs": [
    {
     "data": {
      "image/svg+xml": [
       "<?xml version=\"1.0\" encoding=\"UTF-8\" standalone=\"no\"?>\n",
       "<!DOCTYPE svg PUBLIC \"-//W3C//DTD SVG 1.1//EN\"\n",
       " \"http://www.w3.org/Graphics/SVG/1.1/DTD/svg11.dtd\">\n",
       "<!-- Generated by graphviz version 12.1.2 (20240928.0832)\n",
       " -->\n",
       "<!-- Pages: 1 -->\n",
       "<svg width=\"1361pt\" height=\"210pt\"\n",
       " viewBox=\"0.00 0.00 1360.57 210.00\" xmlns=\"http://www.w3.org/2000/svg\" xmlns:xlink=\"http://www.w3.org/1999/xlink\">\n",
       "<g id=\"graph0\" class=\"graph\" transform=\"scale(1 1) rotate(0) translate(4 206)\">\n",
       "<polygon fill=\"white\" stroke=\"none\" points=\"-4,4 -4,-206 1356.57,-206 1356.57,4 -4,4\"/>\n",
       "<!-- 4383292432 -->\n",
       "<g id=\"node1\" class=\"node\">\n",
       "<title>4383292432</title>\n",
       "<polygon fill=\"none\" stroke=\"black\" points=\"0,-147.5 0,-183.5 192.75,-183.5 192.75,-147.5 0,-147.5\"/>\n",
       "<text text-anchor=\"middle\" x=\"11.38\" y=\"-160.7\" font-family=\"Times,serif\" font-size=\"14.00\">b</text>\n",
       "<polyline fill=\"none\" stroke=\"black\" points=\"22.75,-148 22.75,-183.5\"/>\n",
       "<text text-anchor=\"middle\" x=\"64.88\" y=\"-160.7\" font-family=\"Times,serif\" font-size=\"14.00\">data &#45;3.0000</text>\n",
       "<polyline fill=\"none\" stroke=\"black\" points=\"107,-148 107,-183.5\"/>\n",
       "<text text-anchor=\"middle\" x=\"149.88\" y=\"-160.7\" font-family=\"Times,serif\" font-size=\"14.00\">grad &#45;4.0000</text>\n",
       "</g>\n",
       "<!-- 4383292432&#45;&gt;4383292432 -->\n",
       "<g id=\"edge1\" class=\"edge\">\n",
       "<title>4383292432&#45;&gt;4383292432</title>\n",
       "<path fill=\"none\" stroke=\"black\" d=\"M61.29,-183.9C55.89,-193.42 67.58,-202 96.38,-202 113.02,-202 123.95,-199.13 129.17,-194.87\"/>\n",
       "<polygon fill=\"black\" stroke=\"black\" points=\"132.53,-195.89 131.15,-185.39 125.68,-194.46 132.53,-195.89\"/>\n",
       "</g>\n",
       "<!-- 4383291424* -->\n",
       "<g id=\"node3\" class=\"node\">\n",
       "<title>4383291424*</title>\n",
       "<ellipse fill=\"none\" stroke=\"black\" cx=\"290.34\" cy=\"-128.5\" rx=\"61.59\" ry=\"18\"/>\n",
       "<text text-anchor=\"middle\" x=\"290.34\" y=\"-123.45\" font-family=\"Times,serif\" font-size=\"14.00\">4383291424*</text>\n",
       "</g>\n",
       "<!-- 4383292432&#45;&gt;4383291424* -->\n",
       "<g id=\"edge9\" class=\"edge\">\n",
       "<title>4383292432&#45;&gt;4383291424*</title>\n",
       "<path fill=\"none\" stroke=\"black\" d=\"M193.08,-147.05C204.58,-144.84 216.08,-142.62 226.93,-140.53\"/>\n",
       "<polygon fill=\"black\" stroke=\"black\" points=\"227.33,-144.02 236.49,-138.69 226.01,-137.14 227.33,-144.02\"/>\n",
       "</g>\n",
       "<!-- 4383291424 -->\n",
       "<g id=\"node2\" class=\"node\">\n",
       "<title>4383291424</title>\n",
       "<polygon fill=\"none\" stroke=\"black\" points=\"389.05,-110.5 389.05,-146.5 581.05,-146.5 581.05,-110.5 389.05,-110.5\"/>\n",
       "<text text-anchor=\"middle\" x=\"400.05\" y=\"-123.7\" font-family=\"Times,serif\" font-size=\"14.00\">e</text>\n",
       "<polyline fill=\"none\" stroke=\"black\" points=\"411.05,-111 411.05,-146.5\"/>\n",
       "<text text-anchor=\"middle\" x=\"453.18\" y=\"-123.7\" font-family=\"Times,serif\" font-size=\"14.00\">data &#45;6.0000</text>\n",
       "<polyline fill=\"none\" stroke=\"black\" points=\"495.3,-111 495.3,-146.5\"/>\n",
       "<text text-anchor=\"middle\" x=\"538.18\" y=\"-123.7\" font-family=\"Times,serif\" font-size=\"14.00\">grad &#45;2.0000</text>\n",
       "</g>\n",
       "<!-- 4383145072+ -->\n",
       "<g id=\"node8\" class=\"node\">\n",
       "<title>4383145072+</title>\n",
       "<ellipse fill=\"none\" stroke=\"black\" cx=\"680.79\" cy=\"-91.5\" rx=\"62.61\" ry=\"18\"/>\n",
       "<text text-anchor=\"middle\" x=\"680.79\" y=\"-86.45\" font-family=\"Times,serif\" font-size=\"14.00\">4383145072+</text>\n",
       "</g>\n",
       "<!-- 4383291424&#45;&gt;4383145072+ -->\n",
       "<g id=\"edge10\" class=\"edge\">\n",
       "<title>4383291424&#45;&gt;4383145072+</title>\n",
       "<path fill=\"none\" stroke=\"black\" d=\"M581.5,-110.27C593.46,-107.99 605.45,-105.7 616.74,-103.54\"/>\n",
       "<polygon fill=\"black\" stroke=\"black\" points=\"617.12,-107.03 626.29,-101.72 615.81,-100.16 617.12,-107.03\"/>\n",
       "</g>\n",
       "<!-- 4383291424*&#45;&gt;4383291424 -->\n",
       "<g id=\"edge2\" class=\"edge\">\n",
       "<title>4383291424*&#45;&gt;4383291424</title>\n",
       "<path fill=\"none\" stroke=\"black\" d=\"M352.31,-128.5C360.36,-128.5 368.8,-128.5 377.34,-128.5\"/>\n",
       "<polygon fill=\"black\" stroke=\"black\" points=\"377.1,-132 387.1,-128.5 377.1,-125 377.1,-132\"/>\n",
       "</g>\n",
       "<!-- 4383145552 -->\n",
       "<g id=\"node4\" class=\"node\">\n",
       "<title>4383145552</title>\n",
       "<polygon fill=\"none\" stroke=\"black\" points=\"1162.82,-36.5 1162.82,-72.5 1352.57,-72.5 1352.57,-36.5 1162.82,-36.5\"/>\n",
       "<text text-anchor=\"middle\" x=\"1174.95\" y=\"-49.7\" font-family=\"Times,serif\" font-size=\"14.00\">L</text>\n",
       "<polyline fill=\"none\" stroke=\"black\" points=\"1187.07,-37 1187.07,-72.5\"/>\n",
       "<text text-anchor=\"middle\" x=\"1229.2\" y=\"-49.7\" font-family=\"Times,serif\" font-size=\"14.00\">data &#45;8.0000</text>\n",
       "<polyline fill=\"none\" stroke=\"black\" points=\"1271.32,-37 1271.32,-72.5\"/>\n",
       "<text text-anchor=\"middle\" x=\"1311.95\" y=\"-49.7\" font-family=\"Times,serif\" font-size=\"14.00\">grad 1.0000</text>\n",
       "</g>\n",
       "<!-- 4383145552* -->\n",
       "<g id=\"node5\" class=\"node\">\n",
       "<title>4383145552*</title>\n",
       "<ellipse fill=\"none\" stroke=\"black\" cx=\"1065.24\" cy=\"-54.5\" rx=\"61.59\" ry=\"18\"/>\n",
       "<text text-anchor=\"middle\" x=\"1065.24\" y=\"-49.45\" font-family=\"Times,serif\" font-size=\"14.00\">4383145552*</text>\n",
       "</g>\n",
       "<!-- 4383145552*&#45;&gt;4383145552 -->\n",
       "<g id=\"edge3\" class=\"edge\">\n",
       "<title>4383145552*&#45;&gt;4383145552</title>\n",
       "<path fill=\"none\" stroke=\"black\" d=\"M1127.28,-54.5C1134.9,-54.5 1142.86,-54.5 1150.91,-54.5\"/>\n",
       "<polygon fill=\"black\" stroke=\"black\" points=\"1150.83,-58 1160.83,-54.5 1150.83,-51 1150.83,-58\"/>\n",
       "</g>\n",
       "<!-- 4383291472 -->\n",
       "<g id=\"node6\" class=\"node\">\n",
       "<title>4383291472</title>\n",
       "<polygon fill=\"none\" stroke=\"black\" points=\"4.88,-74.5 4.88,-110.5 187.88,-110.5 187.88,-74.5 4.88,-74.5\"/>\n",
       "<text text-anchor=\"middle\" x=\"15.88\" y=\"-87.7\" font-family=\"Times,serif\" font-size=\"14.00\">a</text>\n",
       "<polyline fill=\"none\" stroke=\"black\" points=\"26.88,-75 26.88,-110.5\"/>\n",
       "<text text-anchor=\"middle\" x=\"66.75\" y=\"-87.7\" font-family=\"Times,serif\" font-size=\"14.00\">data 2.0000</text>\n",
       "<polyline fill=\"none\" stroke=\"black\" points=\"106.62,-75 106.62,-110.5\"/>\n",
       "<text text-anchor=\"middle\" x=\"147.25\" y=\"-87.7\" font-family=\"Times,serif\" font-size=\"14.00\">grad 6.0000</text>\n",
       "</g>\n",
       "<!-- 4383291472&#45;&gt;4383291424* -->\n",
       "<g id=\"edge8\" class=\"edge\">\n",
       "<title>4383291472&#45;&gt;4383291424*</title>\n",
       "<path fill=\"none\" stroke=\"black\" d=\"M188.3,-109.55C201.28,-111.99 214.39,-114.44 226.67,-116.75\"/>\n",
       "<polygon fill=\"black\" stroke=\"black\" points=\"225.72,-120.13 236.19,-118.53 227.01,-113.25 225.72,-120.13\"/>\n",
       "</g>\n",
       "<!-- 4383291472&#45;&gt;4383291472 -->\n",
       "<g id=\"edge4\" class=\"edge\">\n",
       "<title>4383291472&#45;&gt;4383291472</title>\n",
       "<path fill=\"none\" stroke=\"black\" d=\"M61.29,-110.9C55.89,-120.42 67.58,-129 96.38,-129 113.02,-129 123.95,-126.13 129.17,-121.87\"/>\n",
       "<polygon fill=\"black\" stroke=\"black\" points=\"132.53,-122.89 131.15,-112.39 125.68,-121.46 132.53,-122.89\"/>\n",
       "</g>\n",
       "<!-- 4383145072 -->\n",
       "<g id=\"node7\" class=\"node\">\n",
       "<title>4383145072</title>\n",
       "<polygon fill=\"none\" stroke=\"black\" points=\"779.4,-73.5 779.4,-109.5 967.65,-109.5 967.65,-73.5 779.4,-73.5\"/>\n",
       "<text text-anchor=\"middle\" x=\"790.77\" y=\"-86.7\" font-family=\"Times,serif\" font-size=\"14.00\">d</text>\n",
       "<polyline fill=\"none\" stroke=\"black\" points=\"802.15,-74 802.15,-109.5\"/>\n",
       "<text text-anchor=\"middle\" x=\"842.02\" y=\"-86.7\" font-family=\"Times,serif\" font-size=\"14.00\">data 4.0000</text>\n",
       "<polyline fill=\"none\" stroke=\"black\" points=\"881.9,-74 881.9,-109.5\"/>\n",
       "<text text-anchor=\"middle\" x=\"924.77\" y=\"-86.7\" font-family=\"Times,serif\" font-size=\"14.00\">grad &#45;2.0000</text>\n",
       "</g>\n",
       "<!-- 4383145072&#45;&gt;4383145552* -->\n",
       "<g id=\"edge11\" class=\"edge\">\n",
       "<title>4383145072&#45;&gt;4383145552*</title>\n",
       "<path fill=\"none\" stroke=\"black\" d=\"M967.99,-73.27C979.51,-71.02 991.06,-68.77 1001.96,-66.65\"/>\n",
       "<polygon fill=\"black\" stroke=\"black\" points=\"1002.42,-70.12 1011.57,-64.77 1001.08,-63.25 1002.42,-70.12\"/>\n",
       "</g>\n",
       "<!-- 4383145072+&#45;&gt;4383145072 -->\n",
       "<g id=\"edge5\" class=\"edge\">\n",
       "<title>4383145072+&#45;&gt;4383145072</title>\n",
       "<path fill=\"none\" stroke=\"black\" d=\"M743.71,-91.5C751.4,-91.5 759.42,-91.5 767.54,-91.5\"/>\n",
       "<polygon fill=\"black\" stroke=\"black\" points=\"767.54,-95 777.54,-91.5 767.54,-88 767.54,-95\"/>\n",
       "</g>\n",
       "<!-- 4383145888 -->\n",
       "<g id=\"node9\" class=\"node\">\n",
       "<title>4383145888</title>\n",
       "<polygon fill=\"none\" stroke=\"black\" points=\"780.52,-0.5 780.52,-36.5 966.52,-36.5 966.52,-0.5 780.52,-0.5\"/>\n",
       "<text text-anchor=\"middle\" x=\"790.77\" y=\"-13.7\" font-family=\"Times,serif\" font-size=\"14.00\">f</text>\n",
       "<polyline fill=\"none\" stroke=\"black\" points=\"801.02,-1 801.02,-36.5\"/>\n",
       "<text text-anchor=\"middle\" x=\"843.15\" y=\"-13.7\" font-family=\"Times,serif\" font-size=\"14.00\">data &#45;2.0000</text>\n",
       "<polyline fill=\"none\" stroke=\"black\" points=\"885.27,-1 885.27,-36.5\"/>\n",
       "<text text-anchor=\"middle\" x=\"925.9\" y=\"-13.7\" font-family=\"Times,serif\" font-size=\"14.00\">grad 4.0000</text>\n",
       "</g>\n",
       "<!-- 4383145888&#45;&gt;4383145552* -->\n",
       "<g id=\"edge13\" class=\"edge\">\n",
       "<title>4383145888&#45;&gt;4383145552*</title>\n",
       "<path fill=\"none\" stroke=\"black\" d=\"M966.88,-36.03C978.56,-38.24 990.29,-40.47 1001.36,-42.57\"/>\n",
       "<polygon fill=\"black\" stroke=\"black\" points=\"1000.67,-46 1011.14,-44.43 1001.97,-39.12 1000.67,-46\"/>\n",
       "</g>\n",
       "<!-- 4383145888&#45;&gt;4383145888 -->\n",
       "<g id=\"edge6\" class=\"edge\">\n",
       "<title>4383145888&#45;&gt;4383145888</title>\n",
       "<path fill=\"none\" stroke=\"black\" d=\"M838.84,-36.9C833.5,-46.42 845.07,-55 873.52,-55 889.97,-55 900.78,-52.13 905.94,-47.87\"/>\n",
       "<polygon fill=\"black\" stroke=\"black\" points=\"909.3,-48.89 907.9,-38.39 902.45,-47.47 909.3,-48.89\"/>\n",
       "</g>\n",
       "<!-- 4383289840 -->\n",
       "<g id=\"node10\" class=\"node\">\n",
       "<title>4383289840</title>\n",
       "<polygon fill=\"none\" stroke=\"black\" points=\"387.93,-37.5 387.93,-73.5 582.18,-73.5 582.18,-37.5 387.93,-37.5\"/>\n",
       "<text text-anchor=\"middle\" x=\"398.93\" y=\"-50.7\" font-family=\"Times,serif\" font-size=\"14.00\">c</text>\n",
       "<polyline fill=\"none\" stroke=\"black\" points=\"409.93,-38 409.93,-73.5\"/>\n",
       "<text text-anchor=\"middle\" x=\"453.18\" y=\"-50.7\" font-family=\"Times,serif\" font-size=\"14.00\">data 10.0000</text>\n",
       "<polyline fill=\"none\" stroke=\"black\" points=\"496.43,-38 496.43,-73.5\"/>\n",
       "<text text-anchor=\"middle\" x=\"539.3\" y=\"-50.7\" font-family=\"Times,serif\" font-size=\"14.00\">grad &#45;2.0000</text>\n",
       "</g>\n",
       "<!-- 4383289840&#45;&gt;4383145072+ -->\n",
       "<g id=\"edge12\" class=\"edge\">\n",
       "<title>4383289840&#45;&gt;4383145072+</title>\n",
       "<path fill=\"none\" stroke=\"black\" d=\"M582.63,-73.45C594.1,-75.58 605.57,-77.71 616.41,-79.72\"/>\n",
       "<polygon fill=\"black\" stroke=\"black\" points=\"615.48,-83.11 625.95,-81.5 616.76,-76.23 615.48,-83.11\"/>\n",
       "</g>\n",
       "<!-- 4383289840&#45;&gt;4383289840 -->\n",
       "<g id=\"edge7\" class=\"edge\">\n",
       "<title>4383289840&#45;&gt;4383289840</title>\n",
       "<path fill=\"none\" stroke=\"black\" d=\"M449.83,-73.9C444.41,-83.42 456.15,-92 485.05,-92 501.76,-92 512.73,-89.13 517.97,-84.87\"/>\n",
       "<polygon fill=\"black\" stroke=\"black\" points=\"521.33,-85.89 519.96,-75.39 514.48,-84.45 521.33,-85.89\"/>\n",
       "</g>\n",
       "</g>\n",
       "</svg>\n"
      ],
      "text/plain": [
       "<graphviz.graphs.Digraph at 0x105489460>"
      ]
     },
     "execution_count": 61,
     "metadata": {},
     "output_type": "execute_result"
    }
   ],
   "source": [
    "draw_dot(L)"
   ]
  },
  {
   "cell_type": "code",
   "execution_count": null,
   "id": "be6ccf56-b643-44c8-bea3-8174929b3a1b",
   "metadata": {},
   "outputs": [],
   "source": [
    "#L = d * f \n",
    "#dL/dd =? f\n",
    "#(f(x+h) -f(x))/h\n",
    "#((d+h)*f - d*f)/h\n",
    "#(d*f + h*f - d*f)/h\n",
    "#(h*f)/h\n",
    "#f\n"
   ]
  },
  {
   "cell_type": "code",
   "execution_count": 52,
   "id": "7b21bb96-cd99-493a-a763-c8308f68c504",
   "metadata": {},
   "outputs": [],
   "source": [
    "c.grad = -2.0\n",
    "e.grad = -2.0"
   ]
  },
  {
   "cell_type": "code",
   "execution_count": null,
   "id": "55e1d355-3d70-4b82-a033-1697f5c90903",
   "metadata": {},
   "outputs": [],
   "source": [
    "#if you understand the gradient for this node, you understand all of backpropagation and all \n",
    "#training of neural nets\n",
    "#dL/dc #derivative of L with respect to C\n",
    "#dd/dc ? 1.0\n",
    "#dd/de = 1.0\n",
    "#local derivative\n",
    "#d = c + e\n",
    "#(f(x+h) - f(x)) /h\n",
    "#((c + h + e) - (c +e))/h\n",
    "#(c + h + e - c - e)/h\n",
    "#h/h\n",
    "#1.0\n",
    "# we know how l impacts d, we know how c and e impact d\n",
    "# CHAIN RULE - product of 2 rates of change,  if a car travels 2x bicycle, \n",
    "#bicycle 4x as man, car = 2 * 4 = 8x a man\n",
    "# + node routes the gradient, like funnel to children nodes of it\n",
    "#want: \n",
    "#dL/dc = (dL/dd) * (dd/dc)\n",
    "\n",
    "#know: \n",
    "#dl/dd\n",
    "#dd/dc"
   ]
  },
  {
   "cell_type": "code",
   "execution_count": 60,
   "id": "8b68f35f-5581-424e-851c-8b3231b4e054",
   "metadata": {},
   "outputs": [],
   "source": [
    "a.grad = -2.0 * -3.0\n",
    "b.grad = -2.0 * 2.0\n"
   ]
  },
  {
   "cell_type": "code",
   "execution_count": 64,
   "id": "902f1555-8197-4be5-b643-9fcf26e0631a",
   "metadata": {},
   "outputs": [
    {
     "name": "stdout",
     "output_type": "stream",
     "text": [
      "7.472375999999999\n"
     ]
    }
   ],
   "source": [
    "#dL / de = -2.0\n",
    "#e = a * b\n",
    "#de/da = ? \n",
    "#dL / da = (dL /de) * (de/da)\n",
    "a.data += 0.01 * a.grad\n",
    "b.data += 0.01 * b.grad\n",
    "c.data += 0.01 * c.grad\n",
    "f.data += 0.01 + f.grad\n",
    "\n",
    "e = a * b\n",
    "d = e + c\n",
    "L = d * f\n",
    "print(L.data)"
   ]
  },
  {
   "cell_type": "code",
   "execution_count": 63,
   "id": "d2feaab8-f411-4106-a326-59efd207acbc",
   "metadata": {},
   "outputs": [
    {
     "name": "stdout",
     "output_type": "stream",
     "text": [
      "-3.9999999999995595\n"
     ]
    }
   ],
   "source": [
    "#compute derivative of node with respect to L\n",
    "# discover how weights are impacting Loss function\n",
    "def lol():\n",
    "    h = 0.001\n",
    "    a = Value(2.0, label = 'a')\n",
    "    b = Value(-3.0, label = 'b')\n",
    "    c = Value(10.0, label = 'c')\n",
    "    e = a*b; e.label = 'e'\n",
    "    d = e + c; d.label = 'd'\n",
    "    f = Value(-2.0, label = 'f')\n",
    "    L = d*f; L.label = 'L'\n",
    "    L1 = L.data\n",
    "\n",
    "    a = Value(2.0, label = 'a')\n",
    "    b = Value(-3.0, label = 'b')\n",
    "    b.data +=h\n",
    "    c = Value(10.0, label = 'c')\n",
    "    e = a*b; e.label = 'e'\n",
    "    d = e + c; d.label = 'd'\n",
    "    f = Value(-2.0, label = 'f')\n",
    "    L = d*f; L.label = 'L'\n",
    "    L2 = L.data\n",
    "\n",
    "    print((L2-L1)/h) #derivative of L with respect to A\n",
    "    \n",
    "lol()\n",
    "#backpropagation is just a recursive application of the chain rule backwards through the graph"
   ]
  },
  {
   "cell_type": "code",
   "execution_count": 65,
   "id": "bdb6c3c2-4787-4d4b-a48d-bc262f5debc6",
   "metadata": {},
   "outputs": [
    {
     "data": {
      "image/png": "[encoded data removed]",
      "text/plain": [
       "<Figure size 640x480 with 1 Axes>"
      ]
     },
     "metadata": {},
     "output_type": "display_data"
    }
   ],
   "source": [
    "#backpropagate through a neuron (neural network, multilayer perceptron)\n",
    "#tanh is the squashing/activation function\n",
    "#activation fn applied to dot product of weights and inputs\n",
    "plt.plot(np.arange(-5,5,0.2), np.tanh(np.arange(-5,5,0.2))); plt.grid();"
   ]
  },
  {
   "cell_type": "code",
   "execution_count": 72,
   "id": "47a94718-450d-4a70-b78c-958c8cb74d47",
   "metadata": {},
   "outputs": [
    {
     "data": {
      "image/svg+xml": [
       "<?xml version=\"1.0\" encoding=\"UTF-8\" standalone=\"no\"?>\n",
       "<!DOCTYPE svg PUBLIC \"-//W3C//DTD SVG 1.1//EN\"\n",
       " \"http://www.w3.org/Graphics/SVG/1.1/DTD/svg11.dtd\">\n",
       "<!-- Generated by graphviz version 12.1.2 (20240928.0832)\n",
       " -->\n",
       "<!-- Pages: 1 -->\n",
       "<svg width=\"1870pt\" height=\"282pt\"\n",
       " viewBox=\"0.00 0.00 1869.81 282.00\" xmlns=\"http://www.w3.org/2000/svg\" xmlns:xlink=\"http://www.w3.org/1999/xlink\">\n",
       "<g id=\"graph0\" class=\"graph\" transform=\"scale(1 1) rotate(0) translate(4 278)\">\n",
       "<polygon fill=\"white\" stroke=\"none\" points=\"-4,4 -4,-278 1865.81,-278 1865.81,4 -4,4\"/>\n",
       "<!-- 4384430112 -->\n",
       "<g id=\"node1\" class=\"node\">\n",
       "<title>4384430112</title>\n",
       "<polygon fill=\"none\" stroke=\"black\" points=\"852.15,-160.5 852.15,-196.5 1035.9,-196.5 1035.9,-160.5 852.15,-160.5\"/>\n",
       "<text text-anchor=\"middle\" x=\"863.52\" y=\"-173.7\" font-family=\"Times,serif\" font-size=\"14.00\">b</text>\n",
       "<polyline fill=\"none\" stroke=\"black\" points=\"874.9,-161 874.9,-196.5\"/>\n",
       "<text text-anchor=\"middle\" x=\"914.77\" y=\"-173.7\" font-family=\"Times,serif\" font-size=\"14.00\">data 6.8814</text>\n",
       "<polyline fill=\"none\" stroke=\"black\" points=\"954.65,-161 954.65,-196.5\"/>\n",
       "<text text-anchor=\"middle\" x=\"995.27\" y=\"-173.7\" font-family=\"Times,serif\" font-size=\"14.00\">grad 0.0000</text>\n",
       "</g>\n",
       "<!-- 4384430112&#45;&gt;4384430112 -->\n",
       "<g id=\"edge1\" class=\"edge\">\n",
       "<title>4384430112&#45;&gt;4384430112</title>\n",
       "<path fill=\"none\" stroke=\"black\" d=\"M901.69,-196.9C895.18,-206.42 909.29,-215 944.02,-215 964.1,-215 977.29,-212.13 983.58,-207.87\"/>\n",
       "<polygon fill=\"black\" stroke=\"black\" points=\"986.93,-208.92 985.98,-198.37 980.14,-207.21 986.93,-208.92\"/>\n",
       "</g>\n",
       "<!-- 4384372384+ -->\n",
       "<g id=\"node7\" class=\"node\">\n",
       "<title>4384372384+</title>\n",
       "<ellipse fill=\"none\" stroke=\"black\" cx=\"1178.01\" cy=\"-150.5\" rx=\"62.61\" ry=\"18\"/>\n",
       "<text text-anchor=\"middle\" x=\"1178.01\" y=\"-145.45\" font-family=\"Times,serif\" font-size=\"14.00\">4384372384+</text>\n",
       "</g>\n",
       "<!-- 4384430112&#45;&gt;4384372384+ -->\n",
       "<g id=\"edge12\" class=\"edge\">\n",
       "<title>4384430112&#45;&gt;4384372384+</title>\n",
       "<path fill=\"none\" stroke=\"black\" d=\"M1036.38,-167.47C1060.35,-164.58 1085.79,-161.51 1108.35,-158.79\"/>\n",
       "<polygon fill=\"black\" stroke=\"black\" points=\"1108.51,-162.29 1118.02,-157.62 1107.67,-155.34 1108.51,-162.29\"/>\n",
       "</g>\n",
       "<!-- 4384371328 -->\n",
       "<g id=\"node2\" class=\"node\">\n",
       "<title>4384371328</title>\n",
       "<polygon fill=\"none\" stroke=\"black\" points=\"395.43,-142.5 395.43,-178.5 609.18,-178.5 609.18,-142.5 395.43,-142.5\"/>\n",
       "<text text-anchor=\"middle\" x=\"421.8\" y=\"-155.7\" font-family=\"Times,serif\" font-size=\"14.00\">x2*w2</text>\n",
       "<polyline fill=\"none\" stroke=\"black\" points=\"448.18,-143 448.18,-178.5\"/>\n",
       "<text text-anchor=\"middle\" x=\"488.05\" y=\"-155.7\" font-family=\"Times,serif\" font-size=\"14.00\">data 0.0000</text>\n",
       "<polyline fill=\"none\" stroke=\"black\" points=\"527.93,-143 527.93,-178.5\"/>\n",
       "<text text-anchor=\"middle\" x=\"568.55\" y=\"-155.7\" font-family=\"Times,serif\" font-size=\"14.00\">grad 0.0000</text>\n",
       "</g>\n",
       "<!-- 4384371856+ -->\n",
       "<g id=\"node5\" class=\"node\">\n",
       "<title>4384371856+</title>\n",
       "<ellipse fill=\"none\" stroke=\"black\" cx=\"710.04\" cy=\"-123.5\" rx=\"62.61\" ry=\"18\"/>\n",
       "<text text-anchor=\"middle\" x=\"710.04\" y=\"-118.45\" font-family=\"Times,serif\" font-size=\"14.00\">4384371856+</text>\n",
       "</g>\n",
       "<!-- 4384371328&#45;&gt;4384371856+ -->\n",
       "<g id=\"edge18\" class=\"edge\">\n",
       "<title>4384371328&#45;&gt;4384371856+</title>\n",
       "<path fill=\"none\" stroke=\"black\" d=\"M606.17,-142C619.4,-139.62 632.63,-137.24 644.98,-135.02\"/>\n",
       "<polygon fill=\"black\" stroke=\"black\" points=\"645.34,-138.51 654.56,-133.3 644.1,-131.62 645.34,-138.51\"/>\n",
       "</g>\n",
       "<!-- 4384371328* -->\n",
       "<g id=\"node3\" class=\"node\">\n",
       "<title>4384371328*</title>\n",
       "<ellipse fill=\"none\" stroke=\"black\" cx=\"295.59\" cy=\"-164.5\" rx=\"61.59\" ry=\"18\"/>\n",
       "<text text-anchor=\"middle\" x=\"295.59\" y=\"-159.45\" font-family=\"Times,serif\" font-size=\"14.00\">4384371328*</text>\n",
       "</g>\n",
       "<!-- 4384371328*&#45;&gt;4384371328 -->\n",
       "<g id=\"edge2\" class=\"edge\">\n",
       "<title>4384371328*&#45;&gt;4384371328</title>\n",
       "<path fill=\"none\" stroke=\"black\" d=\"M357.45,-163.31C365.82,-163.15 374.64,-162.97 383.62,-162.8\"/>\n",
       "<polygon fill=\"black\" stroke=\"black\" points=\"383.61,-166.3 393.54,-162.61 383.47,-159.3 383.61,-166.3\"/>\n",
       "</g>\n",
       "<!-- 4384371856 -->\n",
       "<g id=\"node4\" class=\"node\">\n",
       "<title>4384371856</title>\n",
       "<polygon fill=\"none\" stroke=\"black\" points=\"808.65,-105.5 808.65,-141.5 1079.4,-141.5 1079.4,-105.5 808.65,-105.5\"/>\n",
       "<text text-anchor=\"middle\" x=\"861.27\" y=\"-118.7\" font-family=\"Times,serif\" font-size=\"14.00\">x1*w1 + x2*w2</text>\n",
       "<polyline fill=\"none\" stroke=\"black\" points=\"913.9,-106 913.9,-141.5\"/>\n",
       "<text text-anchor=\"middle\" x=\"956.02\" y=\"-118.7\" font-family=\"Times,serif\" font-size=\"14.00\">data &#45;6.0000</text>\n",
       "<polyline fill=\"none\" stroke=\"black\" points=\"998.15,-106 998.15,-141.5\"/>\n",
       "<text text-anchor=\"middle\" x=\"1038.77\" y=\"-118.7\" font-family=\"Times,serif\" font-size=\"14.00\">grad 0.0000</text>\n",
       "</g>\n",
       "<!-- 4384371856&#45;&gt;4384372384+ -->\n",
       "<g id=\"edge15\" class=\"edge\">\n",
       "<title>4384371856&#45;&gt;4384372384+</title>\n",
       "<path fill=\"none\" stroke=\"black\" d=\"M1079.63,-139.17C1089.4,-140.3 1098.99,-141.42 1108.11,-142.48\"/>\n",
       "<polygon fill=\"black\" stroke=\"black\" points=\"1107.55,-145.94 1117.88,-143.62 1108.35,-138.99 1107.55,-145.94\"/>\n",
       "</g>\n",
       "<!-- 4384371856+&#45;&gt;4384371856 -->\n",
       "<g id=\"edge3\" class=\"edge\">\n",
       "<title>4384371856+&#45;&gt;4384371856</title>\n",
       "<path fill=\"none\" stroke=\"black\" d=\"M772.9,-123.5C780.56,-123.5 788.62,-123.5 796.91,-123.5\"/>\n",
       "<polygon fill=\"black\" stroke=\"black\" points=\"796.81,-127 806.81,-123.5 796.81,-120 796.81,-127\"/>\n",
       "</g>\n",
       "<!-- 4384372384 -->\n",
       "<g id=\"node6\" class=\"node\">\n",
       "<title>4384372384</title>\n",
       "<polygon fill=\"none\" stroke=\"black\" points=\"1276.62,-132.5 1276.62,-168.5 1460.37,-168.5 1460.37,-132.5 1276.62,-132.5\"/>\n",
       "<text text-anchor=\"middle\" x=\"1287.99\" y=\"-145.7\" font-family=\"Times,serif\" font-size=\"14.00\">n</text>\n",
       "<polyline fill=\"none\" stroke=\"black\" points=\"1299.37,-133 1299.37,-168.5\"/>\n",
       "<text text-anchor=\"middle\" x=\"1339.24\" y=\"-145.7\" font-family=\"Times,serif\" font-size=\"14.00\">data 0.8814</text>\n",
       "<polyline fill=\"none\" stroke=\"black\" points=\"1379.12,-133 1379.12,-168.5\"/>\n",
       "<text text-anchor=\"middle\" x=\"1419.74\" y=\"-145.7\" font-family=\"Times,serif\" font-size=\"14.00\">grad 0.0000</text>\n",
       "</g>\n",
       "<!-- 4384371424tanh -->\n",
       "<g id=\"node11\" class=\"node\">\n",
       "<title>4384371424tanh</title>\n",
       "<ellipse fill=\"none\" stroke=\"black\" cx=\"1569.22\" cy=\"-150.5\" rx=\"72.85\" ry=\"18\"/>\n",
       "<text text-anchor=\"middle\" x=\"1569.22\" y=\"-145.45\" font-family=\"Times,serif\" font-size=\"14.00\">4384371424tanh</text>\n",
       "</g>\n",
       "<!-- 4384372384&#45;&gt;4384371424tanh -->\n",
       "<g id=\"edge13\" class=\"edge\">\n",
       "<title>4384372384&#45;&gt;4384371424tanh</title>\n",
       "<path fill=\"none\" stroke=\"black\" d=\"M1460.71,-150.5C1468.67,-150.5 1476.69,-150.5 1484.57,-150.5\"/>\n",
       "<polygon fill=\"black\" stroke=\"black\" points=\"1484.49,-154 1494.49,-150.5 1484.49,-147 1484.49,-154\"/>\n",
       "</g>\n",
       "<!-- 4384372384+&#45;&gt;4384372384 -->\n",
       "<g id=\"edge4\" class=\"edge\">\n",
       "<title>4384372384+&#45;&gt;4384372384</title>\n",
       "<path fill=\"none\" stroke=\"black\" d=\"M1240.99,-150.5C1248.64,-150.5 1256.63,-150.5 1264.69,-150.5\"/>\n",
       "<polygon fill=\"black\" stroke=\"black\" points=\"1264.61,-154 1274.61,-150.5 1264.61,-147 1264.61,-154\"/>\n",
       "</g>\n",
       "<!-- 4384428192 -->\n",
       "<g id=\"node8\" class=\"node\">\n",
       "<title>4384428192</title>\n",
       "<polygon fill=\"none\" stroke=\"black\" points=\"2.25,-219.5 2.25,-255.5 195.75,-255.5 195.75,-219.5 2.25,-219.5\"/>\n",
       "<text text-anchor=\"middle\" x=\"18.5\" y=\"-232.7\" font-family=\"Times,serif\" font-size=\"14.00\">w2</text>\n",
       "<polyline fill=\"none\" stroke=\"black\" points=\"34.75,-220 34.75,-255.5\"/>\n",
       "<text text-anchor=\"middle\" x=\"74.62\" y=\"-232.7\" font-family=\"Times,serif\" font-size=\"14.00\">data 1.0000</text>\n",
       "<polyline fill=\"none\" stroke=\"black\" points=\"114.5,-220 114.5,-255.5\"/>\n",
       "<text text-anchor=\"middle\" x=\"155.12\" y=\"-232.7\" font-family=\"Times,serif\" font-size=\"14.00\">grad 0.0000</text>\n",
       "</g>\n",
       "<!-- 4384428192&#45;&gt;4384371328* -->\n",
       "<g id=\"edge11\" class=\"edge\">\n",
       "<title>4384428192&#45;&gt;4384371328*</title>\n",
       "<path fill=\"none\" stroke=\"black\" d=\"M172.71,-219.01C181.31,-216.37 189.9,-213.52 198,-210.5 217.03,-203.41 237.41,-193.99 254.53,-185.52\"/>\n",
       "<polygon fill=\"black\" stroke=\"black\" points=\"256.01,-188.69 263.37,-181.08 252.87,-182.44 256.01,-188.69\"/>\n",
       "</g>\n",
       "<!-- 4384428192&#45;&gt;4384428192 -->\n",
       "<g id=\"edge5\" class=\"edge\">\n",
       "<title>4384428192&#45;&gt;4384428192</title>\n",
       "<path fill=\"none\" stroke=\"black\" d=\"M63.44,-255.9C57.96,-265.42 69.82,-274 99,-274 115.87,-274 126.95,-271.13 132.24,-266.87\"/>\n",
       "<polygon fill=\"black\" stroke=\"black\" points=\"135.6,-267.89 134.25,-257.39 128.75,-266.44 135.6,-267.89\"/>\n",
       "</g>\n",
       "<!-- 4384429776 -->\n",
       "<g id=\"node9\" class=\"node\">\n",
       "<title>4384429776</title>\n",
       "<polygon fill=\"none\" stroke=\"black\" points=\"0,-73.5 0,-109.5 198,-109.5 198,-73.5 0,-73.5\"/>\n",
       "<text text-anchor=\"middle\" x=\"16.25\" y=\"-86.7\" font-family=\"Times,serif\" font-size=\"14.00\">w1</text>\n",
       "<polyline fill=\"none\" stroke=\"black\" points=\"32.5,-74 32.5,-109.5\"/>\n",
       "<text text-anchor=\"middle\" x=\"74.62\" y=\"-86.7\" font-family=\"Times,serif\" font-size=\"14.00\">data &#45;3.0000</text>\n",
       "<polyline fill=\"none\" stroke=\"black\" points=\"116.75,-74 116.75,-109.5\"/>\n",
       "<text text-anchor=\"middle\" x=\"157.38\" y=\"-86.7\" font-family=\"Times,serif\" font-size=\"14.00\">grad 0.0000</text>\n",
       "</g>\n",
       "<!-- 4384429776&#45;&gt;4384429776 -->\n",
       "<g id=\"edge6\" class=\"edge\">\n",
       "<title>4384429776&#45;&gt;4384429776</title>\n",
       "<path fill=\"none\" stroke=\"black\" d=\"M63.44,-109.9C57.96,-119.42 69.82,-128 99,-128 115.87,-128 126.95,-125.13 132.24,-120.87\"/>\n",
       "<polygon fill=\"black\" stroke=\"black\" points=\"135.6,-121.89 134.25,-111.39 128.75,-120.44 135.6,-121.89\"/>\n",
       "</g>\n",
       "<!-- 4384428768* -->\n",
       "<g id=\"node13\" class=\"node\">\n",
       "<title>4384428768*</title>\n",
       "<ellipse fill=\"none\" stroke=\"black\" cx=\"295.59\" cy=\"-91.5\" rx=\"61.59\" ry=\"18\"/>\n",
       "<text text-anchor=\"middle\" x=\"295.59\" y=\"-86.45\" font-family=\"Times,serif\" font-size=\"14.00\">4384428768*</text>\n",
       "</g>\n",
       "<!-- 4384429776&#45;&gt;4384428768* -->\n",
       "<g id=\"edge19\" class=\"edge\">\n",
       "<title>4384429776&#45;&gt;4384428768*</title>\n",
       "<path fill=\"none\" stroke=\"black\" d=\"M198.43,-91.5C206.48,-91.5 214.51,-91.5 222.31,-91.5\"/>\n",
       "<polygon fill=\"black\" stroke=\"black\" points=\"222.04,-95 232.04,-91.5 222.04,-88 222.04,-95\"/>\n",
       "</g>\n",
       "<!-- 4384371424 -->\n",
       "<g id=\"node10\" class=\"node\">\n",
       "<title>4384371424</title>\n",
       "<polygon fill=\"none\" stroke=\"black\" points=\"1678.06,-132.5 1678.06,-168.5 1861.81,-168.5 1861.81,-132.5 1678.06,-132.5\"/>\n",
       "<text text-anchor=\"middle\" x=\"1689.44\" y=\"-145.7\" font-family=\"Times,serif\" font-size=\"14.00\">o</text>\n",
       "<polyline fill=\"none\" stroke=\"black\" points=\"1700.81,-133 1700.81,-168.5\"/>\n",
       "<text text-anchor=\"middle\" x=\"1740.69\" y=\"-145.7\" font-family=\"Times,serif\" font-size=\"14.00\">data 0.7071</text>\n",
       "<polyline fill=\"none\" stroke=\"black\" points=\"1780.56,-133 1780.56,-168.5\"/>\n",
       "<text text-anchor=\"middle\" x=\"1821.19\" y=\"-145.7\" font-family=\"Times,serif\" font-size=\"14.00\">grad 0.0000</text>\n",
       "</g>\n",
       "<!-- 4384371424tanh&#45;&gt;4384371424 -->\n",
       "<g id=\"edge7\" class=\"edge\">\n",
       "<title>4384371424tanh&#45;&gt;4384371424</title>\n",
       "<path fill=\"none\" stroke=\"black\" d=\"M1642.52,-150.5C1650.29,-150.5 1658.3,-150.5 1666.34,-150.5\"/>\n",
       "<polygon fill=\"black\" stroke=\"black\" points=\"1666.18,-154 1676.18,-150.5 1666.18,-147 1666.18,-154\"/>\n",
       "</g>\n",
       "<!-- 4384428768 -->\n",
       "<g id=\"node12\" class=\"node\">\n",
       "<title>4384428768</title>\n",
       "<polygon fill=\"none\" stroke=\"black\" points=\"393.18,-78.5 393.18,-114.5 611.43,-114.5 611.43,-78.5 393.18,-78.5\"/>\n",
       "<text text-anchor=\"middle\" x=\"419.55\" y=\"-91.7\" font-family=\"Times,serif\" font-size=\"14.00\">x1*w1</text>\n",
       "<polyline fill=\"none\" stroke=\"black\" points=\"445.93,-79 445.93,-114.5\"/>\n",
       "<text text-anchor=\"middle\" x=\"488.05\" y=\"-91.7\" font-family=\"Times,serif\" font-size=\"14.00\">data &#45;6.0000</text>\n",
       "<polyline fill=\"none\" stroke=\"black\" points=\"530.18,-79 530.18,-114.5\"/>\n",
       "<text text-anchor=\"middle\" x=\"570.8\" y=\"-91.7\" font-family=\"Times,serif\" font-size=\"14.00\">grad 0.0000</text>\n",
       "</g>\n",
       "<!-- 4384428768&#45;&gt;4384371856+ -->\n",
       "<g id=\"edge14\" class=\"edge\">\n",
       "<title>4384428768&#45;&gt;4384371856+</title>\n",
       "<path fill=\"none\" stroke=\"black\" d=\"M611.89,-110.75C621.85,-112.06 631.74,-113.36 641.17,-114.59\"/>\n",
       "<polygon fill=\"black\" stroke=\"black\" points=\"640.57,-118.04 650.94,-115.88 641.48,-111.1 640.57,-118.04\"/>\n",
       "</g>\n",
       "<!-- 4384428768*&#45;&gt;4384428768 -->\n",
       "<g id=\"edge8\" class=\"edge\">\n",
       "<title>4384428768*&#45;&gt;4384428768</title>\n",
       "<path fill=\"none\" stroke=\"black\" d=\"M357.45,-92.99C365.15,-93.17 373.23,-93.37 381.46,-93.57\"/>\n",
       "<polygon fill=\"black\" stroke=\"black\" points=\"381.16,-97.07 391.24,-93.81 381.33,-90.07 381.16,-97.07\"/>\n",
       "</g>\n",
       "<!-- 4384430304 -->\n",
       "<g id=\"node14\" class=\"node\">\n",
       "<title>4384430304</title>\n",
       "<polygon fill=\"none\" stroke=\"black\" points=\"3.75,-0.5 3.75,-36.5 194.25,-36.5 194.25,-0.5 3.75,-0.5\"/>\n",
       "<text text-anchor=\"middle\" x=\"18.5\" y=\"-13.7\" font-family=\"Times,serif\" font-size=\"14.00\">x1</text>\n",
       "<polyline fill=\"none\" stroke=\"black\" points=\"33.25,-1 33.25,-36.5\"/>\n",
       "<text text-anchor=\"middle\" x=\"73.12\" y=\"-13.7\" font-family=\"Times,serif\" font-size=\"14.00\">data 2.0000</text>\n",
       "<polyline fill=\"none\" stroke=\"black\" points=\"113,-1 113,-36.5\"/>\n",
       "<text text-anchor=\"middle\" x=\"153.62\" y=\"-13.7\" font-family=\"Times,serif\" font-size=\"14.00\">grad 0.0000</text>\n",
       "</g>\n",
       "<!-- 4384430304&#45;&gt;4384428768* -->\n",
       "<g id=\"edge16\" class=\"edge\">\n",
       "<title>4384430304&#45;&gt;4384428768*</title>\n",
       "<path fill=\"none\" stroke=\"black\" d=\"M149.1,-36.92C178.78,-48.06 216.47,-62.19 246.05,-73.29\"/>\n",
       "<polygon fill=\"black\" stroke=\"black\" points=\"244.54,-76.46 255.13,-76.7 247,-69.91 244.54,-76.46\"/>\n",
       "</g>\n",
       "<!-- 4384430304&#45;&gt;4384430304 -->\n",
       "<g id=\"edge9\" class=\"edge\">\n",
       "<title>4384430304&#45;&gt;4384430304</title>\n",
       "<path fill=\"none\" stroke=\"black\" d=\"M63.44,-36.9C57.96,-46.42 69.82,-55 99,-55 115.87,-55 126.95,-52.13 132.24,-47.87\"/>\n",
       "<polygon fill=\"black\" stroke=\"black\" points=\"135.6,-48.89 134.25,-38.39 128.75,-47.44 135.6,-48.89\"/>\n",
       "</g>\n",
       "<!-- 4384430400 -->\n",
       "<g id=\"node15\" class=\"node\">\n",
       "<title>4384430400</title>\n",
       "<polygon fill=\"none\" stroke=\"black\" points=\"3.75,-146.5 3.75,-182.5 194.25,-182.5 194.25,-146.5 3.75,-146.5\"/>\n",
       "<text text-anchor=\"middle\" x=\"18.5\" y=\"-159.7\" font-family=\"Times,serif\" font-size=\"14.00\">x2</text>\n",
       "<polyline fill=\"none\" stroke=\"black\" points=\"33.25,-147 33.25,-182.5\"/>\n",
       "<text text-anchor=\"middle\" x=\"73.12\" y=\"-159.7\" font-family=\"Times,serif\" font-size=\"14.00\">data 0.0000</text>\n",
       "<polyline fill=\"none\" stroke=\"black\" points=\"113,-147 113,-182.5\"/>\n",
       "<text text-anchor=\"middle\" x=\"153.62\" y=\"-159.7\" font-family=\"Times,serif\" font-size=\"14.00\">grad 0.0000</text>\n",
       "</g>\n",
       "<!-- 4384430400&#45;&gt;4384371328* -->\n",
       "<g id=\"edge17\" class=\"edge\">\n",
       "<title>4384430400&#45;&gt;4384371328*</title>\n",
       "<path fill=\"none\" stroke=\"black\" d=\"M194.73,-164.5C204.04,-164.5 213.38,-164.5 222.41,-164.5\"/>\n",
       "<polygon fill=\"black\" stroke=\"black\" points=\"222.15,-168 232.15,-164.5 222.15,-161 222.15,-168\"/>\n",
       "</g>\n",
       "<!-- 4384430400&#45;&gt;4384430400 -->\n",
       "<g id=\"edge10\" class=\"edge\">\n",
       "<title>4384430400&#45;&gt;4384430400</title>\n",
       "<path fill=\"none\" stroke=\"black\" d=\"M63.44,-182.9C57.96,-192.42 69.82,-201 99,-201 115.87,-201 126.95,-198.13 132.24,-193.87\"/>\n",
       "<polygon fill=\"black\" stroke=\"black\" points=\"135.6,-194.89 134.25,-184.39 128.75,-193.44 135.6,-194.89\"/>\n",
       "</g>\n",
       "</g>\n",
       "</svg>\n"
      ],
      "text/plain": [
       "<graphviz.graphs.Digraph at 0x105543640>"
      ]
     },
     "execution_count": 72,
     "metadata": {},
     "output_type": "execute_result"
    }
   ],
   "source": [
    "# inputs x1, x2\n",
    "x1 = Value(2.0, label = 'x1')\n",
    "x2 = Value(0.0, label = 'x2')\n",
    "#weights w1, w2 (synaptic strength)\n",
    "w1 = Value(-3.0, label = 'w1')\n",
    "w2 = Value(1.0, label = 'w2')\n",
    "#bias b\n",
    "b = Value(6.8813735870195432, label = 'b')\n",
    "#x1w1 + x2w2 + b\n",
    "x1w1 = x1*w1; x1w1.label = 'x1*w1'\n",
    "x2w2 = x2*w2; x2w2.label = 'x2*w2'\n",
    "x1w1x2w2 = x1w1 + x2w2; x1w1x2w2.label = 'x1*w1 + x2*w2'\n",
    "n = x1w1x2w2 + b; n.label = 'n'\n",
    "o = n.tanh(); o.label = 'o' #hyperbolic function tanhx = sinhx/coshx (exponentiation)\n",
    "draw_dot(o)"
   ]
  },
  {
   "cell_type": "code",
   "execution_count": null,
   "id": "5fc62d4d-f40e-4fb2-886e-d6549b348ac7",
   "metadata": {},
   "outputs": [],
   "source": [
    "#derivative of o with respect to all of the inputs\n",
    "#weights change, so we care the most about those"
   ]
  }
 ],
 "metadata": {
  "kernelspec": {
   "display_name": "Python 3 (ipykernel)",
   "language": "python",
   "name": "python3"
  },
  "language_info": {
   "codemirror_mode": {
    "name": "ipython",
    "version": 3
   },
   "file_extension": ".py",
   "mimetype": "text/x-python",
   "name": "python",
   "nbconvert_exporter": "python",
   "pygments_lexer": "ipython3",
   "version": "3.9.6"
  }
 },
 "nbformat": 4,
 "nbformat_minor": 5
}
